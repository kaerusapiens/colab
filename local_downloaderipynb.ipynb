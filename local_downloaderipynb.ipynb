{
  "nbformat": 4,
  "nbformat_minor": 0,
  "metadata": {
    "colab": {
      "provenance": [],
      "authorship_tag": "ABX9TyPcrt2FQNw0gZKhcqsYyG9S",
      "include_colab_link": true
    },
    "kernelspec": {
      "name": "python3",
      "display_name": "Python 3"
    },
    "language_info": {
      "name": "python"
    }
  },
  "cells": [
    {
      "cell_type": "markdown",
      "metadata": {
        "id": "view-in-github",
        "colab_type": "text"
      },
      "source": [
        "<a href=\"https://colab.research.google.com/github/kaerusapiens/colab/blob/main/local_downloaderipynb.ipynb\" target=\"_parent\"><img src=\"https://colab.research.google.com/assets/colab-badge.svg\" alt=\"Open In Colab\"/></a>"
      ]
    },
    {
      "cell_type": "code",
      "source": [
        "\n"
      ],
      "metadata": {
        "id": "sDmX2PKIGfij"
      },
      "execution_count": null,
      "outputs": []
    },
    {
      "cell_type": "code",
      "source": [
        "# prompt: rnadomly create dataframe with 5 columns and save it to window local. raise the window local donwload\n",
        "from google.colab import drive\n",
        "drive.mount('/content/drive')\n",
        "import pandas as pd\n",
        "import numpy as np\n",
        "\n",
        "# Create a dataframe with 5 columns and 10 rows\n",
        "df = pd.DataFrame(np.random.randn(10, 5), columns=['A', 'B', 'C', 'D', 'E'])\n",
        "\n",
        "\n",
        "# Save the dataframe to a CSV file in the user's local downloads directory\n",
        "df.to_csv('random_dataframe.csv')\n",
        "from google.colab import files\n",
        "# Raise the window local download\n",
        "files.download(\"random_dataframe.csv\")\n"
      ],
      "metadata": {
        "id": "GeYNRVzsHHhY"
      },
      "execution_count": null,
      "outputs": []
    }
  ]
}